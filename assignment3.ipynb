{
 "cells": [
  {
   "cell_type": "markdown",
   "id": "245217cc",
   "metadata": {},
   "source": [
    "# Assignment: SVD Preprocessing on MNIST with Logistic Regression"
   ]
  },
  {
   "cell_type": "markdown",
   "id": "deffa444",
   "metadata": {},
   "source": [
    "## Instructions:\n",
    "In this assignment, you will apply **Singular Value Decomposition (SVD)** as a preprocessing step to the **MNIST dataset** and train a **logistic regression classifier**. You will compare the model performance and training time when using different levels of SVD for dimensionality reduction.\n",
    "\n",
    "In this assignment, you will need to:\n",
    "1. Load the MNIST dataset and normalize it.\n",
    "2. Perform SVD and reduce the dimensions of the data.\n",
    "3. Train a logistic regression model on the original and SVD-reduced data.\n",
    "4. Measure and compare the training time and accuracy of the model with varying SVD components.\n",
    "5. Plot the results and analyze how SVD impacts the performance and efficiency of the model.\n",
    "\n",
    "***\n",
    "Your tasks include:\n",
    "1. Implement SVD algorithm. You are not allowed to directly use SVD implemented by other packages, but you may use functions in NumPy. (Part 2)\n",
    "2. Explore the accuracy and time performance from different numbers of SVD components. (Part 4)\n",
    "3. Visualize the accuracy, time performance and top 5 singular vectors in the dataset, analyze and explain which number of SVD component looks best to you? (Part 4,5&6) Hint: singular vectors should be reshaped to 28x28 images for visualization.\n",
    "***\n",
    "**Note that you may not import any other function or package.** Let's get started!\n"
   ]
  },
  {
   "cell_type": "markdown",
   "id": "b3e10cb3",
   "metadata": {},
   "source": [
    "## Part 1: Load the MNIST dataset and preprocess the data"
   ]
  },
  {
   "cell_type": "code",
   "execution_count": 1,
   "id": "79f2d907",
   "metadata": {},
   "outputs": [
    {
     "name": "stdout",
     "output_type": "stream",
     "text": [
      "Loading MNIST dataset...\n"
     ]
    }
   ],
   "source": [
    "import numpy as np\n",
    "import matplotlib.pyplot as plt\n",
    "import time\n",
    "from sklearn.linear_model import LogisticRegression\n",
    "from sklearn.model_selection import train_test_split\n",
    "from sklearn.datasets import fetch_openml\n",
    "from sklearn.metrics import accuracy_score, classification_report\n",
    "\n",
    "# Load MNIST dataset\n",
    "print(\"Loading MNIST dataset...\")\n",
    "mnist = fetch_openml('mnist_784', version=1)\n",
    "X = mnist.data\n",
    "y = mnist.target\n",
    "\n",
    "# Normalize the data\n",
    "X = X / 255.0\n",
    "\n",
    "# Split into training and test sets\n",
    "X_train, X_test, y_train, y_test = train_test_split(X, y, test_size=0.2, random_state=42)\n"
   ]
  },
  {
   "cell_type": "markdown",
   "id": "28b8572d",
   "metadata": {},
   "source": [
    "## Part 2: Implement SVD for Dimensionality Reduction"
   ]
  },
  {
   "cell_type": "code",
   "execution_count": 2,
   "id": "b3bd59f3",
   "metadata": {},
   "outputs": [],
   "source": [
    "import numpy as np\n",
    "\n",
    "def apply_svd_custom(X_train, X_test, n_components):\n",
    "    # Center the data by subtracting the mean\n",
    "    X_mean = np.mean(X_train, axis=0)\n",
    "    X_train_centered = X_train - X_mean\n",
    "    X_test_centered = X_test - X_mean\n",
    "    \n",
    "    # Perform SVD on the training data\n",
    "    U, S, Vt = np.linalg.svd(X_train_centered, full_matrices=False)\n",
    "    \n",
    "    # Reduce dimensions using the top 'n_components' singular values/vectors\n",
    "    Vt_reduced = Vt[:n_components, :]\n",
    "    \n",
    "    # Transform both train and test data\n",
    "    X_train_reduced = np.dot(X_train_centered, Vt_reduced.T)\n",
    "    X_test_reduced = np.dot(X_test_centered, Vt_reduced.T)\n",
    "    \n",
    "    return X_train_reduced, X_test_reduced"
   ]
  },
  {
   "cell_type": "markdown",
   "id": "eb2a7a9d",
   "metadata": {},
   "source": [
    "## Part 3: Train Logistic Regression and Measure Performance"
   ]
  },
  {
   "cell_type": "code",
   "execution_count": 3,
   "id": "dbfc0b10",
   "metadata": {},
   "outputs": [],
   "source": [
    "# Function to train logistic regression and track training time\n",
    "def train_logistic_regression(X_train, y_train, X_test, y_test):\n",
    "    model = LogisticRegression(max_iter=1000, solver='saga', random_state=42, multi_class='multinomial')\n",
    "    \n",
    "    # Measure training time\n",
    "    start_time = time.time()\n",
    "    model.fit(X_train, y_train)\n",
    "    training_time = time.time() - start_time\n",
    "    \n",
    "    y_pred = model.predict(X_test)\n",
    "    accuracy = accuracy_score(y_test, y_pred)\n",
    "    \n",
    "    return accuracy, training_time\n"
   ]
  },
  {
   "cell_type": "markdown",
   "id": "2e557a05",
   "metadata": {},
   "source": [
    "## Part 4: Experiment with Different Levels of SVD\n",
    "\n",
    "Now, apply SVD with varying numbers of components and observe how the dimensionality reduction impacts the model's performance. Record both the accuracy and training time for each number of components.\n"
   ]
  },
  {
   "cell_type": "code",
   "execution_count": 4,
   "id": "3a460725",
   "metadata": {},
   "outputs": [
    {
     "name": "stdout",
     "output_type": "stream",
     "text": [
      "Training models with different levels of SVD preprocessing...\n",
      "Applying custom SVD with 10 components...\n",
      "SVD components: 10, Accuracy: 0.8035, Training time: 2.1171 seconds\n",
      "Applying custom SVD with 50 components...\n",
      "SVD components: 50, Accuracy: 0.9080, Training time: 25.6167 seconds\n",
      "Applying custom SVD with 100 components...\n",
      "SVD components: 100, Accuracy: 0.9181, Training time: 87.8899 seconds\n",
      "Applying custom SVD with 200 components...\n",
      "SVD components: 200, Accuracy: 0.9206, Training time: 194.5766 seconds\n",
      "Applying custom SVD with 500 components...\n",
      "SVD components: 500, Accuracy: 0.9205, Training time: 715.5941 seconds\n",
      "Applying custom SVD with 784 components...\n",
      "SVD components: 784, Accuracy: 0.9207, Training time: 1197.3612 seconds\n"
     ]
    }
   ],
   "source": [
    "svd_components = [10, 50, 100, 200, 500, 784]  \n",
    "\n",
    "\n",
    "# Store the results\n",
    "results = []\n",
    "\n",
    "print(\"Training models with different levels of SVD preprocessing...\")\n",
    "for n_components in svd_components:\n",
    "    print(f\"Applying custom SVD with {n_components} components...\")\n",
    "    \n",
    "    # Apply SVD\n",
    "    X_train_svd, X_test_svd = apply_svd_custom(X_train, X_test, n_components)\n",
    "    \n",
    "    # Train the logistic regression model and get accuracy and training time\n",
    "    accuracy, training_time = train_logistic_regression(X_train_svd, y_train, X_test_svd, y_test)\n",
    "    \n",
    "    # Store the results\n",
    "    results.append((n_components, accuracy, training_time))\n",
    "    \n",
    "    print(f\"SVD components: {n_components}, Accuracy: {accuracy:.4f}, Training time: {training_time:.4f} seconds\")\n"
   ]
  },
  {
   "cell_type": "markdown",
   "id": "ea7aca12",
   "metadata": {},
   "source": [
    "## Part 5: Visualize and Analyze the Results\n",
    "\n",
    "Finally, plot the accuracy, training time as a function of the number of SVD components, and top 5 singular vectors. This will help you understand the trade-off between dimensionality reduction, accuracy, and model training time, and how SVD generally works. Hint: singular vectors should be reshaped to 28x28 images for visualization.\n"
   ]
  },
  {
   "cell_type": "code",
   "execution_count": 6,
   "id": "92ef0497",
   "metadata": {},
   "outputs": [
    {
     "data": {
      "image/png": "[encoded data removed]",
      "text/plain": [
       "<Figure size 1080x360 with 2 Axes>"
      ]
     },
     "metadata": {
      "needs_background": "dark"
     },
     "output_type": "display_data"
    },
    {
     "data": {
      "image/png": "[encoded data removed]",
      "text/plain": [
       "<Figure size 1440x288 with 5 Axes>"
      ]
     },
     "metadata": {
      "needs_background": "dark"
     },
     "output_type": "display_data"
    }
   ],
   "source": [
    "components = [r[0] for r in results]\n",
    "accuracies = [r[1] for r in results]\n",
    "times = [r[2] for r in results]\n",
    "\n",
    "# Set the default text color to white for all plot elements\n",
    "plt.rcParams['text.color'] = 'white'\n",
    "plt.rcParams['axes.labelcolor'] = 'white'\n",
    "plt.rcParams['xtick.color'] = 'white'\n",
    "plt.rcParams['ytick.color'] = 'white'\n",
    "plt.rcParams['axes.titlecolor'] = 'white'\n",
    "\n",
    "fig, (ax1, ax2) = plt.subplots(1, 2, figsize=(15, 5))\n",
    "\n",
    "# accuracy vs number of components\n",
    "ax1.plot(components, accuracies, marker='o')\n",
    "ax1.set_xscale('log')\n",
    "ax1.set_xlabel('Number of SVD Components')\n",
    "ax1.set_ylabel('Accuracy')\n",
    "ax1.set_title('Accuracy vs Number of SVD Components')\n",
    "\n",
    "# training time vs number of components\n",
    "ax2.plot(components, times, marker='o')\n",
    "ax2.set_xscale('log')\n",
    "ax2.set_xlabel('Number of SVD Components')\n",
    "ax2.set_ylabel('Training Time (seconds)')\n",
    "ax2.set_title('Training Time vs Number of SVD Components')\n",
    "\n",
    "plt.tight_layout()\n",
    "plt.show()\n",
    "\n",
    "# top 5 singular vectors\n",
    "def plot_singular_vectors(X_train):\n",
    "    X_train_mean = np.mean(X_train, axis=0)\n",
    "    X_train_centered = X_train - X_train_mean\n",
    "    cov_matrix = np.dot(X_train_centered.T, X_train_centered) / (X_train_centered.shape[0] - 1)\n",
    "\n",
    "    eigenvalues, eigenvectors = np.linalg.eigh(cov_matrix)\n",
    "\n",
    "    idx = np.argsort(eigenvalues)[::-1]\n",
    "    eigenvectors = eigenvectors[:, idx]\n",
    "    top_5_vectors = eigenvectors[:, :5]\n",
    "\n",
    "    fig, axes = plt.subplots(1, 5, figsize=(20, 4))\n",
    "    for i in range(5):\n",
    "        vector = top_5_vectors[:, i].reshape(28, 28)\n",
    "        axes[i].imshow(vector, cmap='gray')\n",
    "        axes[i].axis('off')\n",
    "        axes[i].set_title(f\"Singular Vector {i+1}\")\n",
    "    \n",
    "    plt.tight_layout()\n",
    "    plt.show()\n",
    "\n",
    "plot_singular_vectors(X_train)"
   ]
  },
  {
   "cell_type": "markdown",
   "id": "4210569a",
   "metadata": {},
   "source": [
    "## Part 6: Analyze / Conclusion \n",
    "\n",
    "YOUR ANSWER: "
   ]
  },
  {
   "cell_type": "markdown",
   "id": "d47f043c",
   "metadata": {},
   "source": [
    "The optimal number of SVD components for this task is around 200, as accuracy significantly improves up to this point and then plateaus, while training time increases exponentially beyond it. Using fewer components provides almost the same accuracy with much lower computation costs. Therefore, applying around 200 components offers the best trade-off between accuracy and efficiency. The singular vectors indicate that the first few components capture most of the essential features in the MNIST dataset, making dimensionality reduction highly effective for this problem.\n",
    "\n",
    "\n",
    "\n",
    "\n",
    "\n",
    "\n"
   ]
  }
 ],
 "metadata": {
  "kernelspec": {
   "display_name": "Python 3",
   "language": "python",
   "name": "python3"
  },
  "language_info": {
   "codemirror_mode": {
    "name": "ipython",
    "version": 3
   },
   "file_extension": ".py",
   "mimetype": "text/x-python",
   "name": "python",
   "nbconvert_exporter": "python",
   "pygments_lexer": "ipython3",
   "version": "3.8.8"
  }
 },
 "nbformat": 4,
 "nbformat_minor": 5
}
